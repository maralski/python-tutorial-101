{
 "cells": [
  {
   "cell_type": "markdown",
   "metadata": {},
   "source": [
    "# Environment Setup\n",
    "\n",
    "Download and install Anaconda\n",
    "\n",
    "* [Anaconda for Windows](https://repo.anaconda.com/archive/Anaconda3-2019.03-Windows-x86_64.exe)\n",
    "\n",
    "Download and install Git for Windows\n",
    "\n",
    "\n",
    "* [Git for Wnidows](https://github.com/git-for-windows/git/releases/download/v2.22.0.windows.1/Git-2.22.0-64-bit.exe)\n",
    "\n",
    "When installing Git select “Use the Nano editor by default” and “Use the native Windows Secure Channel library”.\n",
    "\n"
   ]
  },
  {
   "cell_type": "markdown",
   "metadata": {},
   "source": [
    "## Jupyter Notebooks\n",
    "\n",
    "Jupyter Notebooks provide a front end for programming languages like Python, Juila and R.\n",
    "\n",
    "A notebook document consists of rich text elements with `HTML formatted text`, `figures`, `mathematical equations` etc. The notebook is also an executable document consisting of `code blocks` in Python or other supporting languages.\n",
    "\n",
    "Jupyter notebook is a `client-server` application. The application starts the `server` on local machine and opens the `notebook interface` in `web browser` where it can be edited and run from. The notebook is saved as `ipynb` file and can be exported as html, pdf and LaTex files."
   ]
  },
  {
   "cell_type": "markdown",
   "metadata": {},
   "source": [
    "Explore the following options in Jupyter Notebook:\n",
    "\n",
    "* File\n",
    "* Edit\n",
    "* Cell Types\n",
    "* Kernel\n",
    "* Toolbar\n",
    "* Shortcuts\n",
    "* Help"
   ]
  },
  {
   "cell_type": "code",
   "execution_count": null,
   "metadata": {},
   "outputs": [],
   "source": []
  },
  {
   "cell_type": "code",
   "execution_count": null,
   "metadata": {},
   "outputs": [],
   "source": []
  },
  {
   "cell_type": "code",
   "execution_count": null,
   "metadata": {},
   "outputs": [],
   "source": []
  },
  {
   "cell_type": "code",
   "execution_count": null,
   "metadata": {},
   "outputs": [],
   "source": []
  },
  {
   "cell_type": "markdown",
   "metadata": {},
   "source": [
    "## Markdown Cheatsheet\n",
    "\n",
    "[Markdown Cheatsheet](https://github.com/adam-p/markdown-here/wiki/Markdown-Cheatsheet)\n",
    "\n",
    "\n",
    "# Heading\n",
    "## Heading\n",
    "### Heading\n",
    "#### Heading\n",
    "\n",
    "* Bullet Point 1\n",
    "* Bullet Point 2\n",
    "\n",
    "\n",
    "1. Ordered List 1\n",
    "2. Ordered List 2\n",
    "\n",
    "\n",
    "**Bold**\n",
    "\n",
    "*Italics*\n",
    "\n",
    "```\n",
    "Code\n",
    "```\n",
    "\n",
    "> Blockquotes are very handy in email to emulate reply text.\n",
    "> This line is part of the same quote.\n",
    "\n",
    "Quote break.\n",
    "\n",
    "> This is a very long line that will still be quoted properly when it wraps. Oh boy let's keep writing to make sure this is long enough to actually wrap for everyone. Oh, you can *put* **Markdown** into a blockquote. \n",
    "\n",
    "Horizontal Line\n",
    "***\n",
    "\n",
    "[Hyperlink to Google](https://www.google.com/)\n",
    "\n",
    "Embed Images\n",
    "\n",
    "![](https://www.codeninjas.com/images/brand/Logos/nav-logo.svg)\n",
    "\n",
    "Embed HTML\n",
    "\n",
    "<table class=\"names\">\n",
    "  <tr>\n",
    "    <th>Firstname</th>\n",
    "    <th>Lastname</th> \n",
    "    <th>Age</th>\n",
    "  </tr>\n",
    "  <tr>\n",
    "    <td>Jill</td>\n",
    "    <td>Smith</td>\n",
    "    <td>50</td>\n",
    "  </tr>\n",
    "  <tr>\n",
    "    <td>Eve</td>\n",
    "    <td>Jackson</td>\n",
    "    <td>94</td>\n",
    "  </tr>\n",
    "  <tr>\n",
    "    <td>John</td>\n",
    "    <td>Doe</td>\n",
    "    <td>80</td>\n",
    "  </tr>\n",
    "</table>"
   ]
  },
  {
   "cell_type": "code",
   "execution_count": null,
   "metadata": {},
   "outputs": [],
   "source": []
  }
 ],
 "metadata": {
  "kernelspec": {
   "display_name": "Python 3",
   "language": "python",
   "name": "python3"
  },
  "language_info": {
   "codemirror_mode": {
    "name": "ipython",
    "version": 3
   },
   "file_extension": ".py",
   "mimetype": "text/x-python",
   "name": "python",
   "nbconvert_exporter": "python",
   "pygments_lexer": "ipython3",
   "version": "3.7.1"
  }
 },
 "nbformat": 4,
 "nbformat_minor": 2
}
