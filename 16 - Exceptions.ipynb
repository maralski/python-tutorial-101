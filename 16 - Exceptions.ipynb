{
 "cells": [
  {
   "cell_type": "markdown",
   "metadata": {},
   "source": [
    "# Exceptions\n",
    "\n",
    "An exception is an event, which occurs during the execution of a program that disrupts the normal flow of the program's instructions. In general, when a Python script encounters a situation that it cannot cope with, it raises an exception. An exception is a Python object that represents an error.\n",
    "\n",
    "When a Python script raises an exception, it must either handle the exception immediately otherwise it terminates and quits."
   ]
  },
  {
   "cell_type": "markdown",
   "metadata": {},
   "source": [
    "## Handling an exception\n",
    "\n",
    "If you have some suspicious code that may raise an exception, you can defend your program by placing the suspicious code in a `try:` block. After the `try:` block, include an `except:` statement, followed by a block of code which handles the problem as elegantly as possible.\n",
    "\n",
    "Here is simple syntax of `try`....`except`...`else` blocks −\n",
    "\n",
    "```\n",
    "try:\n",
    "   You do your operations here\n",
    "   ......................\n",
    "except ExceptionI:\n",
    "   If there is ExceptionI, then execute this block.\n",
    "except ExceptionII:\n",
    "   If there is ExceptionII, then execute this block.\n",
    "   ......................\n",
    "else:\n",
    "   If there is no exception then execute this block. \n",
    "```\n",
    "\n",
    "Here are few important points about the above-mentioned syntax −\n",
    "\n",
    "* A single try statement can have multiple except statements. This is useful when the try block contains statements that may throw different types of exceptions.\n",
    "\n",
    "* You can also provide a generic except clause, which handles any exception.\n",
    "\n",
    "* After the except clause(s), you can include an else-clause. The code in the else-block executes if the code in the try: block does not raise an exception.\n",
    "\n",
    "* The else-block is a good place for code that does not need the try: block's protection."
   ]
  },
  {
   "cell_type": "markdown",
   "metadata": {},
   "source": [
    "This example opens a file, writes content in the, file and comes out gracefully because there is no problem at all −"
   ]
  },
  {
   "cell_type": "code",
   "execution_count": 2,
   "metadata": {},
   "outputs": [
    {
     "name": "stdout",
     "output_type": "stream",
     "text": [
      "Written content in the file successfully\n"
     ]
    }
   ],
   "source": [
    "try:\n",
    "    fh = open(\"testfile\", \"w\")\n",
    "    fh.write(\"This is my test file for exception handling!!\")\n",
    "except IOError:\n",
    "    print (\"Error: can\\'t find file or read data\")\n",
    "else:\n",
    "    print (\"Written content in the file successfully\")\n",
    "    fh.close()"
   ]
  },
  {
   "cell_type": "markdown",
   "metadata": {},
   "source": [
    "This example tries to open a file that does not exist, so it raises an exception −"
   ]
  },
  {
   "cell_type": "code",
   "execution_count": 7,
   "metadata": {},
   "outputs": [
    {
     "name": "stdout",
     "output_type": "stream",
     "text": [
      "Error: can't find file\n"
     ]
    }
   ],
   "source": [
    "try:\n",
    "    fh = open(\"unknown\", \"r\")\n",
    "    fh.write(\"This is my test file for exception handling!!\")\n",
    "except FileNotFoundError:\n",
    "    print (\"Error: can\\'t find file\")\n",
    "else:\n",
    "    print (\"Written content in the file successfully\")"
   ]
  },
  {
   "cell_type": "markdown",
   "metadata": {},
   "source": [
    "This is what you get if you don't handle the exception"
   ]
  },
  {
   "cell_type": "code",
   "execution_count": 8,
   "metadata": {},
   "outputs": [
    {
     "ename": "FileNotFoundError",
     "evalue": "[Errno 2] No such file or directory: 'unknown'",
     "output_type": "error",
     "traceback": [
      "\u001b[0;31m---------------------------------------------------------------------------\u001b[0m",
      "\u001b[0;31mFileNotFoundError\u001b[0m                         Traceback (most recent call last)",
      "\u001b[0;32m<ipython-input-8-d3d08379cb08>\u001b[0m in \u001b[0;36m<module>\u001b[0;34m\u001b[0m\n\u001b[0;32m----> 1\u001b[0;31m \u001b[0mfh\u001b[0m \u001b[0;34m=\u001b[0m \u001b[0mopen\u001b[0m\u001b[0;34m(\u001b[0m\u001b[0;34m\"unknown\"\u001b[0m\u001b[0;34m,\u001b[0m \u001b[0;34m\"r\"\u001b[0m\u001b[0;34m)\u001b[0m\u001b[0;34m\u001b[0m\u001b[0m\n\u001b[0m\u001b[1;32m      2\u001b[0m \u001b[0mfh\u001b[0m\u001b[0;34m.\u001b[0m\u001b[0mwrite\u001b[0m\u001b[0;34m(\u001b[0m\u001b[0;34m\"This is my test file for exception handling!!\"\u001b[0m\u001b[0;34m)\u001b[0m\u001b[0;34m\u001b[0m\u001b[0m\n",
      "\u001b[0;31mFileNotFoundError\u001b[0m: [Errno 2] No such file or directory: 'unknown'"
     ]
    }
   ],
   "source": [
    "fh = open(\"unknown\", \"r\")\n",
    "fh.write(\"This is my test file for exception handling!!\")"
   ]
  },
  {
   "cell_type": "markdown",
   "metadata": {},
   "source": [
    "You can also use the `except` statement with no exceptions defined as follows −\n",
    "\n",
    "```\n",
    "try:\n",
    "   You do your operations here\n",
    "   ......................\n",
    "except:\n",
    "   If there is any exception, then execute this block.\n",
    "   ......................\n",
    "else:\n",
    "   If there is no exception then execute this block. \n",
    "```\n",
    "\n",
    "This kind of a try-except statement catches all the exceptions that occur. Using this kind of try-except statement is not considered a good programming practice though, because it catches all exceptions but does not make the programmer identify the root cause of the problem that may occur."
   ]
  },
  {
   "cell_type": "code",
   "execution_count": 13,
   "metadata": {},
   "outputs": [
    {
     "name": "stdout",
     "output_type": "stream",
     "text": [
      "Something went wrong!\n"
     ]
    }
   ],
   "source": [
    "try:\n",
    "    fh = open(\"unknown\", \"r\")\n",
    "    fh.write(\"This is my test file for exception handling!!\")\n",
    "except:\n",
    "    print (\"Something went wrong!\")\n",
    "else:\n",
    "    print (\"Written content in the file successfully\")"
   ]
  },
  {
   "cell_type": "markdown",
   "metadata": {},
   "source": [
    "You can also use the same except statement to handle multiple exceptions as follows −\n",
    "\n",
    "```\n",
    "try:\n",
    "   You do your operations here\n",
    "   ......................\n",
    "except(Exception1[, Exception2[,...ExceptionN]]]):\n",
    "   If there is any exception from the given exception list, \n",
    "   then execute this block.\n",
    "   ......................\n",
    "else:\n",
    "   If there is no exception then execute this block. \n",
    "```"
   ]
  },
  {
   "cell_type": "markdown",
   "metadata": {},
   "source": [
    "You can use a `finally:` block along with a `try:` block. The `finally:` block is a place to put any code that must execute, whether the try-block raised an exception or not. The syntax of the try-finally statement is this −\n",
    "\n",
    "```\n",
    "try:\n",
    "   You do your operations here;\n",
    "   ......................\n",
    "   Due to any exception, this may be skipped.\n",
    "finally:\n",
    "   This would always be executed.\n",
    "   ......................\n",
    "```\n",
    "\n",
    "**Note** − You can provide except clause(s), or a finally clause, but not both. You cannot use else clause as well along with a finally clause."
   ]
  },
  {
   "cell_type": "markdown",
   "metadata": {},
   "source": [
    "## Raising an Exception\n",
    "You can `raise` your own exceptions. Look this [tutorial] (https://www.tutorialspoint.com/python3/python_exceptions.htm) on raising an exception."
   ]
  },
  {
   "cell_type": "code",
   "execution_count": null,
   "metadata": {},
   "outputs": [],
   "source": []
  }
 ],
 "metadata": {
  "kernelspec": {
   "display_name": "Python 3",
   "language": "python",
   "name": "python3"
  },
  "language_info": {
   "codemirror_mode": {
    "name": "ipython",
    "version": 3
   },
   "file_extension": ".py",
   "mimetype": "text/x-python",
   "name": "python",
   "nbconvert_exporter": "python",
   "pygments_lexer": "ipython3",
   "version": "3.7.0"
  }
 },
 "nbformat": 4,
 "nbformat_minor": 2
}
