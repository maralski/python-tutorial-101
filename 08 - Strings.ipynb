{
 "cells": [
  {
   "cell_type": "markdown",
   "metadata": {},
   "source": [
    "# Strings\n",
    "\n",
    "Strings are amongst the most popular types in Python. We can create them simply by enclosing characters in quotes. Python treats single quotes the same as double quotes. Creating strings is as simple as assigning a value to a variable."
   ]
  },
  {
   "cell_type": "code",
   "execution_count": 2,
   "metadata": {},
   "outputs": [],
   "source": [
    "var1 = 'Hello World!'\n",
    "var2 = \"Python Programming\""
   ]
  },
  {
   "cell_type": "code",
   "execution_count": 3,
   "metadata": {},
   "outputs": [
    {
     "data": {
      "text/plain": [
       "'Hello World!'"
      ]
     },
     "execution_count": 3,
     "metadata": {},
     "output_type": "execute_result"
    }
   ],
   "source": [
    "var1"
   ]
  },
  {
   "cell_type": "code",
   "execution_count": 4,
   "metadata": {},
   "outputs": [
    {
     "data": {
      "text/plain": [
       "'Python Programming'"
      ]
     },
     "execution_count": 4,
     "metadata": {},
     "output_type": "execute_result"
    }
   ],
   "source": [
    "var2"
   ]
  },
  {
   "cell_type": "markdown",
   "metadata": {},
   "source": [
    "## Accessing Values in Strings\n",
    "\n",
    "Python does not support a character type; these are treated as strings of length one, thus also considered a substring.\n",
    "\n",
    "To access substrings, use the square brackets for slicing along with the index or indices to obtain your substring."
   ]
  },
  {
   "cell_type": "code",
   "execution_count": 6,
   "metadata": {},
   "outputs": [
    {
     "name": "stdout",
     "output_type": "stream",
     "text": [
      "var1[0]:  H\n",
      "var2[1:5]:  ytho\n"
     ]
    }
   ],
   "source": [
    "var1 = 'Hello World!'\n",
    "var2 = \"Python Programming\"\n",
    "\n",
    "print(\"var1[0]: \", var1[0])\n",
    "print(\"var2[1:5]: \", var2[1:5])"
   ]
  },
  {
   "cell_type": "markdown",
   "metadata": {},
   "source": [
    "## Updating Strings\n",
    "\n",
    "You can \"update\" an existing string by (re)assigning a variable to another string. The new value can be related to its previous value or to a completely different string altogether. However, you **cannot mutate** a string.\n",
    "\n",
    "Strings can be encapsulated in single (`'`) or double quotes (`\"`). They are treated the same."
   ]
  },
  {
   "cell_type": "code",
   "execution_count": 10,
   "metadata": {},
   "outputs": [
    {
     "name": "stdout",
     "output_type": "stream",
     "text": [
      "Updated String :-  Hello Python\n"
     ]
    }
   ],
   "source": [
    "var1 = 'Hello World!'\n",
    "print(\"Updated String :- \", var1[:6] + 'Python')"
   ]
  },
  {
   "cell_type": "markdown",
   "metadata": {},
   "source": [
    "Assign new string to variable."
   ]
  },
  {
   "cell_type": "code",
   "execution_count": 11,
   "metadata": {},
   "outputs": [
    {
     "data": {
      "text/plain": [
       "'Hello Everyone'"
      ]
     },
     "execution_count": 11,
     "metadata": {},
     "output_type": "execute_result"
    }
   ],
   "source": [
    "var1 = \"Hello Everyone\"\n",
    "var1"
   ]
  },
  {
   "cell_type": "markdown",
   "metadata": {},
   "source": [
    "Try to mutate string."
   ]
  },
  {
   "cell_type": "code",
   "execution_count": 12,
   "metadata": {},
   "outputs": [
    {
     "ename": "TypeError",
     "evalue": "'str' object does not support item assignment",
     "output_type": "error",
     "traceback": [
      "\u001b[0;31m---------------------------------------------------------------------------\u001b[0m",
      "\u001b[0;31mTypeError\u001b[0m                                 Traceback (most recent call last)",
      "\u001b[0;32m<ipython-input-12-2db54c943605>\u001b[0m in \u001b[0;36m<module>\u001b[0;34m\u001b[0m\n\u001b[0;32m----> 1\u001b[0;31m \u001b[0mvar1\u001b[0m\u001b[0;34m[\u001b[0m\u001b[0;36m0\u001b[0m\u001b[0;34m]\u001b[0m \u001b[0;34m=\u001b[0m \u001b[0;34m\"Y\"\u001b[0m\u001b[0;34m\u001b[0m\u001b[0;34m\u001b[0m\u001b[0m\n\u001b[0m",
      "\u001b[0;31mTypeError\u001b[0m: 'str' object does not support item assignment"
     ]
    }
   ],
   "source": [
    "var1[0] = \"Y\""
   ]
  },
  {
   "cell_type": "markdown",
   "metadata": {},
   "source": [
    "## Escape Characters\n",
    "\n",
    "Following table is a list of escape or non-printable characters that can be represented with backslash notation.\n",
    "\n",
    "An escape character gets interpreted; in a single quoted as well as double quoted strings.\n",
    "\n",
    "<table class=\"table table-bordered\" style=\"text-align:center;\">\n",
    "<tbody><tr>\n",
    "<th style=\"text-align:center;\">Backslash notation</th>\n",
    "<th style=\"text-align:center;\">Hexadecimal character</th>\n",
    "<th class=\"ts\">Description</th>\n",
    "</tr>\n",
    "<tr>\n",
    "<td>\\a</td>\n",
    "<td>0x07</td>\n",
    "<td>Bell or alert</td>\n",
    "</tr>\n",
    "<tr>\n",
    "<td>\\b</td>\n",
    "<td>0x08</td>\n",
    "<td>Backspace</td>\n",
    "</tr>\n",
    "<tr>\n",
    "<td>\\cx</td>\n",
    "<td></td>\n",
    "<td>Control-x</td>\n",
    "</tr>\n",
    "<tr>\n",
    "<td>\\C-x</td>\n",
    "<td></td>\n",
    "<td>Control-x</td>\n",
    "</tr>\n",
    "<tr>\n",
    "<td>\\e</td>\n",
    "<td>0x1b</td>\n",
    "<td>Escape</td>\n",
    "</tr>\n",
    "<tr>\n",
    "<td>\\f</td>\n",
    "<td>0x0c</td>\n",
    "<td>Formfeed</td>\n",
    "</tr>\n",
    "<tr>\n",
    "<td>\\M-\\C-x</td>\n",
    "<td></td>\n",
    "<td>Meta-Control-x</td>\n",
    "</tr>\n",
    "<tr>\n",
    "<td>\\n</td>\n",
    "<td>0x0a</td>\n",
    "<td>Newline</td>\n",
    "</tr>\n",
    "<tr>\n",
    "<td>\\nnn</td>\n",
    "<td></td>\n",
    "<td>Octal notation, where n is in the range 0.7</td>\n",
    "</tr>\n",
    "<tr>\n",
    "<td>\\r</td>\n",
    "<td>0x0d</td>\n",
    "<td>Carriage return</td>\n",
    "</tr>\n",
    "<tr>\n",
    "<td>\\s</td>\n",
    "<td>0x20</td>\n",
    "<td>Space</td>\n",
    "</tr>\n",
    "<tr>\n",
    "<td>\\t</td>\n",
    "<td>0x09</td>\n",
    "<td>Tab</td>\n",
    "</tr>\n",
    "<tr>\n",
    "<td>\\v</td>\n",
    "<td>0x0b</td>\n",
    "<td>Vertical tab</td>\n",
    "</tr>\n",
    "<tr>\n",
    "<td>\\x</td>\n",
    "<td></td>\n",
    "<td>Character x</td>\n",
    "</tr>\n",
    "<tr>\n",
    "<td style=\"vertical-align:middle;\">\\xnn</td>\n",
    "<td></td>\n",
    "<td>Hexadecimal notation, where n is in the range 0.9, a.f, or A.F</td>\n",
    "</tr>\n",
    "</tbody></table>"
   ]
  },
  {
   "cell_type": "markdown",
   "metadata": {},
   "source": [
    "## String Special Operators"
   ]
  },
  {
   "cell_type": "markdown",
   "metadata": {},
   "source": [
    "`+` Concatenation - Adds values on either side of the operator"
   ]
  },
  {
   "cell_type": "code",
   "execution_count": 15,
   "metadata": {},
   "outputs": [
    {
     "data": {
      "text/plain": [
       "'HelloPython'"
      ]
     },
     "execution_count": 15,
     "metadata": {},
     "output_type": "execute_result"
    }
   ],
   "source": [
    "var1 = \"Hello\"\n",
    "var2 = \"Python\"\n",
    "\n",
    "var1 + var2"
   ]
  },
  {
   "cell_type": "markdown",
   "metadata": {},
   "source": [
    "`*` Repetition - Creates new strings, concatenating multiple copies of the same string"
   ]
  },
  {
   "cell_type": "code",
   "execution_count": 16,
   "metadata": {},
   "outputs": [
    {
     "data": {
      "text/plain": [
       "'HelloHelloHelloHelloHelloHelloHelloHelloHelloHello'"
      ]
     },
     "execution_count": 16,
     "metadata": {},
     "output_type": "execute_result"
    }
   ],
   "source": [
    "var1 = \"Hello\"\n",
    "var2 = \"Python\"\n",
    "\n",
    "var1 * 10"
   ]
  },
  {
   "cell_type": "markdown",
   "metadata": {},
   "source": [
    "`[]` Slice - Gives the character from the given index"
   ]
  },
  {
   "cell_type": "code",
   "execution_count": 17,
   "metadata": {},
   "outputs": [
    {
     "data": {
      "text/plain": [
       "'e'"
      ]
     },
     "execution_count": 17,
     "metadata": {},
     "output_type": "execute_result"
    }
   ],
   "source": [
    "var1 = \"Hello\"\n",
    "\n",
    "var1[1]"
   ]
  },
  {
   "cell_type": "markdown",
   "metadata": {},
   "source": [
    "`[:]` Range Slice - Gives the characters from the given range"
   ]
  },
  {
   "cell_type": "code",
   "execution_count": 29,
   "metadata": {},
   "outputs": [
    {
     "data": {
      "text/plain": [
       "'ell'"
      ]
     },
     "execution_count": 29,
     "metadata": {},
     "output_type": "execute_result"
    }
   ],
   "source": [
    "var1 = \"Hello\"\n",
    "\n",
    "var1[1:4]"
   ]
  },
  {
   "cell_type": "markdown",
   "metadata": {},
   "source": [
    "`in` Membership - Returns true if a character exists in the given string"
   ]
  },
  {
   "cell_type": "code",
   "execution_count": 31,
   "metadata": {},
   "outputs": [
    {
     "data": {
      "text/plain": [
       "(True, False)"
      ]
     },
     "execution_count": 31,
     "metadata": {},
     "output_type": "execute_result"
    }
   ],
   "source": [
    "var1 = \"Hello it is Peter\"\n",
    "\n",
    "\"Peter\" in var1"
   ]
  },
  {
   "cell_type": "markdown",
   "metadata": {},
   "source": [
    "`not in` Membership - Returns true if a character does not exist in the given string"
   ]
  },
  {
   "cell_type": "code",
   "execution_count": 33,
   "metadata": {},
   "outputs": [
    {
     "data": {
      "text/plain": [
       "False"
      ]
     },
     "execution_count": 33,
     "metadata": {},
     "output_type": "execute_result"
    }
   ],
   "source": [
    "var1 = \"Hello it is Peter\"\n",
    "\n",
    "\"Peter\" not in var1"
   ]
  },
  {
   "cell_type": "markdown",
   "metadata": {},
   "source": [
    "## String Formatting Operator\n",
    "\n",
    "One of Python's coolest features is the string format operator %. This operator is unique to strings and makes up for the pack of having functions from C's printf() family."
   ]
  },
  {
   "cell_type": "code",
   "execution_count": 35,
   "metadata": {},
   "outputs": [
    {
     "name": "stdout",
     "output_type": "stream",
     "text": [
      "My name is Peter and weight is 21 kg!\n"
     ]
    }
   ],
   "source": [
    "print(\"My name is %s and weight is %d kg!\" % ('Peter', 21))"
   ]
  },
  {
   "cell_type": "markdown",
   "metadata": {},
   "source": [
    "Here is the list of complete set of symbols which can be used along with `%`"
   ]
  },
  {
   "cell_type": "markdown",
   "metadata": {},
   "source": [
    "<table class=\"table table-bordered\">\n",
    "<tbody><tr>\n",
    "<th width=\"10%\">Sr.No.</th>\n",
    "<th style=\"text-align:center;\">Format Symbol &amp; Conversion</th>\n",
    "</tr>\n",
    "<tr>\n",
    "<td class=\"ts\">1</td>\n",
    "<td><p><b>%c</b></p>\n",
    "<p>character</p></td>\n",
    "</tr>\n",
    "<tr>\n",
    "<td class=\"ts\">2</td>\n",
    "<td><p><b>%s</b></p>\n",
    "<p>string conversion via str() prior to formatting</p></td>\n",
    "</tr>\n",
    "<tr>\n",
    "<td class=\"ts\">3</td>\n",
    "<td><p><b>%i</b></p>\n",
    "<p>signed decimal integer</p></td>\n",
    "</tr>\n",
    "<tr>\n",
    "<td class=\"ts\">4</td>\n",
    "<td><p><b>%d</b></p>\n",
    "<p>signed decimal integer</p></td>\n",
    "</tr>\n",
    "<tr>\n",
    "<td class=\"ts\">5</td>\n",
    "<td><p><b>%u</b></p>\n",
    "<p>unsigned decimal integer</p></td>\n",
    "</tr>\n",
    "<tr>\n",
    "<td class=\"ts\">6</td>\n",
    "<td><p><b>%o</b></p>\n",
    "<p>octal integer</p></td>\n",
    "</tr>\n",
    "<tr>\n",
    "<td class=\"ts\">7</td>\n",
    "<td><p><b>%x</b></p>\n",
    "<p>hexadecimal integer (lowercase letters)</p></td>\n",
    "</tr>\n",
    "<tr>\n",
    "<td class=\"ts\">8</td>\n",
    "<td><p><b>%X</b></p>\n",
    "<p>hexadecimal integer (UPPERcase letters)</p></td>\n",
    "</tr>\n",
    "<tr>\n",
    "<td class=\"ts\">9</td>\n",
    "<td><p><b>%e</b></p>\n",
    "<p>exponential notation (with lowercase 'e')</p></td>\n",
    "</tr>\n",
    "<tr>\n",
    "<td class=\"ts\">10</td>\n",
    "<td><p><b>%E</b></p>\n",
    "<p>exponential notation (with UPPERcase 'E')</p></td>\n",
    "</tr>\n",
    "<tr>\n",
    "<td class=\"ts\">11</td>\n",
    "<td><p><b>%f</b></p>\n",
    "<p>floating point real number</p></td>\n",
    "</tr>\n",
    "<tr>\n",
    "<td class=\"ts\">12</td>\n",
    "<td><p><b>%g</b></p>\n",
    "<p>the shorter of %f and %e</p></td>\n",
    "</tr>\n",
    "<tr>\n",
    "<td class=\"ts\">13</td>\n",
    "<td><p><b>%G</b></p>\n",
    "<p>the shorter of %f and %E</p></td>\n",
    "</tr>\n",
    "</tbody></table>"
   ]
  },
  {
   "cell_type": "markdown",
   "metadata": {},
   "source": [
    "Other supported symbols and functionality are listed in the following table −"
   ]
  },
  {
   "cell_type": "markdown",
   "metadata": {},
   "source": [
    "<table class=\"table table-bordered\">\n",
    "<tbody><tr>\n",
    "<th>Sr.No.</th>\n",
    "<th style=\"text-align:center;\">Symbol &amp; Functionality</th>\n",
    "</tr>\n",
    "<tr>\n",
    "<td class=\"ts\">1</td>\n",
    "<td><p><b>*</b></p>\n",
    "<p>argument specifies width or precision</p></td>\n",
    "</tr>\n",
    "<tr>\n",
    "<td class=\"ts\">2</td>\n",
    "<td><p><b>-</b></p>\n",
    "<p>left justification</p></td>\n",
    "</tr>\n",
    "<tr>\n",
    "<td class=\"ts\">3</td>\n",
    "<td><p><b>+</b></p>\n",
    "<p>display the sign</p></td>\n",
    "</tr>\n",
    "<tr>\n",
    "<td class=\"ts\">4</td>\n",
    "<td><p><b>&lt;sp&gt;</b></p>\n",
    "<p>leave a blank space before a positive number</p></td>\n",
    "</tr>\n",
    "<tr>\n",
    "<td class=\"ts\">5</td>\n",
    "<td><p><b>#</b></p>\n",
    "<p>add the octal leading zero ( '0' ) or hexadecimal leading '0x' or '0X', depending on whether 'x' or 'X' were used.</p></td>\n",
    "</tr>\n",
    "<tr>\n",
    "<td class=\"ts\">6</td>\n",
    "<td><p><b>0</b></p>\n",
    "<p>pad from left with zeros (instead of spaces)</p></td>\n",
    "</tr>\n",
    "<tr>\n",
    "<td class=\"ts\">7</td>\n",
    "<td><p><b>%</b></p>\n",
    "<p>'%%' leaves you with a single literal '%'</p></td>\n",
    "</tr>\n",
    "<tr>\n",
    "<td class=\"ts\">8</td>\n",
    "<td><p><b>(var)</b></p>\n",
    "<p>mapping variable (dictionary arguments)</p></td>\n",
    "</tr>\n",
    "<tr>\n",
    "<td class=\"ts\">9</td>\n",
    "<td><p><b>m.n.</b></p>\n",
    "<p>m is the minimum total width and n is the number of digits to display after the decimal point (if appl.)</p></td>\n",
    "</tr>\n",
    "</tbody></table>"
   ]
  },
  {
   "cell_type": "markdown",
   "metadata": {},
   "source": [
    "## Triple Quotes\n",
    "\n",
    "Python's triple quotes comes to the rescue by allowing strings to span multiple lines, including verbatim NEWLINEs, TABs, and any other special characters.\n",
    "\n",
    "The syntax for triple quotes consists of three consecutive **single** or **double quotes**."
   ]
  },
  {
   "cell_type": "code",
   "execution_count": 38,
   "metadata": {},
   "outputs": [
    {
     "name": "stdout",
     "output_type": "stream",
     "text": [
      "this is a long string that is made up of\n",
      "several lines and non-printable characters such as\n",
      "TAB ( \t ) and they will show up that way when displayed.\n",
      "NEWLINEs within the string, whether explicitly given like\n",
      "this within the brackets [ \n",
      " ], or just a NEWLINE within\n",
      "the variable assignment will also show up.\n",
      "\n"
     ]
    }
   ],
   "source": [
    "para_str = \"\"\"this is a long string that is made up of\n",
    "several lines and non-printable characters such as\n",
    "TAB ( \\t ) and they will show up that way when displayed.\n",
    "NEWLINEs within the string, whether explicitly given like\n",
    "this within the brackets [ \\n ], or just a NEWLINE within\n",
    "the variable assignment will also show up.\n",
    "\"\"\"\n",
    "print(para_str)"
   ]
  },
  {
   "cell_type": "markdown",
   "metadata": {},
   "source": [
    "## Unicode String\n",
    "In Python 3, all strings are represented in Unicode"
   ]
  },
  {
   "cell_type": "markdown",
   "metadata": {},
   "source": [
    "### Built-in String Methods\n",
    "Python includes the following built-in methods to manipulate strings −"
   ]
  },
  {
   "cell_type": "markdown",
   "metadata": {},
   "source": [
    "`capitalize()` capitalizes first letter of string"
   ]
  },
  {
   "cell_type": "code",
   "execution_count": 43,
   "metadata": {},
   "outputs": [
    {
     "data": {
      "text/plain": [
       "'Hello everyone'"
      ]
     },
     "execution_count": 43,
     "metadata": {},
     "output_type": "execute_result"
    }
   ],
   "source": [
    "var1 = \"hello everyone\"\n",
    "\n",
    "var1.capitalize()"
   ]
  },
  {
   "cell_type": "markdown",
   "metadata": {},
   "source": [
    "`center(width, fillchar)` returns a string padded with fillchar with the original string centered to a total of width columns."
   ]
  },
  {
   "cell_type": "code",
   "execution_count": 50,
   "metadata": {},
   "outputs": [
    {
     "data": {
      "text/plain": [
       "'.......................hello everyone.......................'"
      ]
     },
     "execution_count": 50,
     "metadata": {},
     "output_type": "execute_result"
    }
   ],
   "source": [
    "var1 = \"hello everyone\"\n",
    "\n",
    "var1.center(60, \".\")"
   ]
  },
  {
   "cell_type": "markdown",
   "metadata": {},
   "source": [
    "`count(str, beg = 0,end = len(string))` counts how many times str occurs in string or in a substring of string if starting index beg and ending index end are given."
   ]
  },
  {
   "cell_type": "code",
   "execution_count": 74,
   "metadata": {},
   "outputs": [
    {
     "name": "stdout",
     "output_type": "stream",
     "text": [
      "1\n",
      "4\n"
     ]
    }
   ],
   "source": [
    "var1 =\"hello everyone\"\n",
    "\n",
    "print(var1.count(\"ever\"))\n",
    "print(var1.count(\"e\"))"
   ]
  },
  {
   "cell_type": "markdown",
   "metadata": {},
   "source": [
    "`startswith(str, beg=0,end=len(string))` determines if string or a substring of string (if starting index beg and ending index end are given) starts with substring str; returns true if so and false otherwise.\n",
    "\n",
    "`endswith(suffix, beg = 0, end = len(string))` determines if string or a substring of string (if starting index beg and ending index end are given) ends with suffix; returns true if so and false otherwise."
   ]
  },
  {
   "cell_type": "code",
   "execution_count": 82,
   "metadata": {},
   "outputs": [
    {
     "name": "stdout",
     "output_type": "stream",
     "text": [
      "True\n",
      "True\n"
     ]
    }
   ],
   "source": [
    "var1 =\"hello everyone\"\n",
    "\n",
    "print(var1.startswith(\"hello\"))\n",
    "print(var1.endswith(\"one\"))"
   ]
  },
  {
   "cell_type": "markdown",
   "metadata": {},
   "source": [
    "`find(str, beg = 0 end = len(string))` determine if str occurs in string or in a substring of string if starting index beg and ending index end are given returns index if found and -1 otherwise."
   ]
  },
  {
   "cell_type": "code",
   "execution_count": 72,
   "metadata": {},
   "outputs": [
    {
     "name": "stdout",
     "output_type": "stream",
     "text": [
      "9\n",
      "-1\n"
     ]
    }
   ],
   "source": [
    "var1 = \"hello everyone\"\n",
    "\n",
    "print(var1.find(\"r\"))\n",
    "print(var1.find(\"z\"))"
   ]
  },
  {
   "cell_type": "markdown",
   "metadata": {},
   "source": [
    "`join(seq)` merges (concatenates) the string representations of elements in sequence seq into a string, with separator string."
   ]
  },
  {
   "cell_type": "code",
   "execution_count": 75,
   "metadata": {},
   "outputs": [
    {
     "data": {
      "text/plain": [
       "'hello-everyone'"
      ]
     },
     "execution_count": 75,
     "metadata": {},
     "output_type": "execute_result"
    }
   ],
   "source": [
    "var1 = \"hello\"\n",
    "var2 = \"everyone\"\n",
    "sep = \"-\"\n",
    "\n",
    "sep.join([var1, var2])"
   ]
  },
  {
   "cell_type": "code",
   "execution_count": 76,
   "metadata": {},
   "outputs": [
    {
     "data": {
      "text/plain": [
       "'hello-everyone'"
      ]
     },
     "execution_count": 76,
     "metadata": {},
     "output_type": "execute_result"
    }
   ],
   "source": [
    "var1 = \"hello\"\n",
    "var2 = \"everyone\"\n",
    "\n",
    "\"-\".join([var1, var2])"
   ]
  },
  {
   "cell_type": "markdown",
   "metadata": {},
   "source": [
    "`len(string)` returns the length of the string"
   ]
  },
  {
   "cell_type": "code",
   "execution_count": 77,
   "metadata": {},
   "outputs": [
    {
     "name": "stdout",
     "output_type": "stream",
     "text": [
      "5\n",
      "8\n"
     ]
    }
   ],
   "source": [
    "var1 = \"hello\"\n",
    "var2 = \"everyone\"\n",
    "\n",
    "print(len(var1))\n",
    "print(len(var2))"
   ]
  },
  {
   "cell_type": "markdown",
   "metadata": {},
   "source": [
    "`lower()` converts all uppercase letters in string to lowercase.\n",
    "\n",
    "`upper()` converts lowercase letters in string to uppercase."
   ]
  },
  {
   "cell_type": "code",
   "execution_count": 78,
   "metadata": {},
   "outputs": [
    {
     "name": "stdout",
     "output_type": "stream",
     "text": [
      "hello\n",
      "EVERYONE\n"
     ]
    }
   ],
   "source": [
    "var1 = \"Hello\"\n",
    "var2 = \"Everyone\"\n",
    "\n",
    "print(var1.lower())\n",
    "print(var2.upper())"
   ]
  },
  {
   "cell_type": "markdown",
   "metadata": {},
   "source": [
    "`split(str=\"\", num=string.count(str))` splits string according to delimiter str (space if not provided) and returns list of substrings; split into at most num substrings if given."
   ]
  },
  {
   "cell_type": "code",
   "execution_count": 111,
   "metadata": {},
   "outputs": [
    {
     "data": {
      "text/plain": [
       "['Hello', 'everyone', 'at', 'DPS', 'Bootcamp']"
      ]
     },
     "execution_count": 111,
     "metadata": {},
     "output_type": "execute_result"
    }
   ],
   "source": [
    "var1 = \"Hello everyone at DPS Bootcamp\"\n",
    "\n",
    "var1.split(\" \")"
   ]
  },
  {
   "cell_type": "markdown",
   "metadata": {},
   "source": [
    "`replace(old, new [, max])` replaces all occurrences of old in string with new or at most max occurrences if max given."
   ]
  },
  {
   "cell_type": "code",
   "execution_count": 112,
   "metadata": {},
   "outputs": [
    {
     "data": {
      "text/plain": [
       "'Good morning Everyone at DPS Bootcamp'"
      ]
     },
     "execution_count": 112,
     "metadata": {},
     "output_type": "execute_result"
    }
   ],
   "source": [
    "var1 = \"Hello Everyone at DPS Bootcamp\"\n",
    "\n",
    "var1.replace(\"Hello\", \"Good morning\")"
   ]
  },
  {
   "cell_type": "markdown",
   "metadata": {},
   "source": [
    "There are many methods we can use with strings. See complete list below."
   ]
  },
  {
   "cell_type": "code",
   "execution_count": 109,
   "metadata": {},
   "outputs": [
    {
     "data": {
      "text/plain": [
       "['capitalize',\n",
       " 'casefold',\n",
       " 'center',\n",
       " 'count',\n",
       " 'encode',\n",
       " 'endswith',\n",
       " 'expandtabs',\n",
       " 'find',\n",
       " 'format',\n",
       " 'format_map',\n",
       " 'index',\n",
       " 'isalnum',\n",
       " 'isalpha',\n",
       " 'isascii',\n",
       " 'isdecimal',\n",
       " 'isdigit',\n",
       " 'isidentifier',\n",
       " 'islower',\n",
       " 'isnumeric',\n",
       " 'isprintable',\n",
       " 'isspace',\n",
       " 'istitle',\n",
       " 'isupper',\n",
       " 'join',\n",
       " 'ljust',\n",
       " 'lower',\n",
       " 'lstrip',\n",
       " 'maketrans',\n",
       " 'partition',\n",
       " 'replace',\n",
       " 'rfind',\n",
       " 'rindex',\n",
       " 'rjust',\n",
       " 'rpartition',\n",
       " 'rsplit',\n",
       " 'rstrip',\n",
       " 'split',\n",
       " 'splitlines',\n",
       " 'startswith',\n",
       " 'strip',\n",
       " 'swapcase',\n",
       " 'title',\n",
       " 'translate',\n",
       " 'upper',\n",
       " 'zfill']"
      ]
     },
     "execution_count": 109,
     "metadata": {},
     "output_type": "execute_result"
    }
   ],
   "source": [
    "[i for i in dir(\"ok this is my string\") if '__' not in i]"
   ]
  },
  {
   "cell_type": "markdown",
   "metadata": {},
   "source": [
    "What does zfill do? We can check in-built documentation."
   ]
  },
  {
   "cell_type": "code",
   "execution_count": 110,
   "metadata": {},
   "outputs": [],
   "source": [
    "var1 = \"ok\"\n",
    "var1.zfill?"
   ]
  }
 ],
 "metadata": {
  "kernelspec": {
   "display_name": "Python 3",
   "language": "python",
   "name": "python3"
  },
  "language_info": {
   "codemirror_mode": {
    "name": "ipython",
    "version": 3
   },
   "file_extension": ".py",
   "mimetype": "text/x-python",
   "name": "python",
   "nbconvert_exporter": "python",
   "pygments_lexer": "ipython3",
   "version": "3.7.2"
  }
 },
 "nbformat": 4,
 "nbformat_minor": 2
}
