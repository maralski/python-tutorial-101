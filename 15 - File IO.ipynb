{
 "cells": [
  {
   "cell_type": "markdown",
   "metadata": {},
   "source": [
    "# File I/O\n",
    "\n",
    "This chapter covers all the basic I/O functions available in Python 3. For more functions, please refer to the standard Python documentation."
   ]
  },
  {
   "cell_type": "markdown",
   "metadata": {},
   "source": [
    "## Printing to the Screen\n",
    "\n",
    "The simplest way to produce output is using the print statement where you can pass zero or more expressions separated by commas. This function converts the expressions you pass into a string and writes the result to standard output."
   ]
  },
  {
   "cell_type": "code",
   "execution_count": 2,
   "metadata": {},
   "outputs": [
    {
     "name": "stdout",
     "output_type": "stream",
     "text": [
      "We are 1 day away from DPS Bootcamp!\n"
     ]
    }
   ],
   "source": [
    "print (\"We\", \"are\", 1, \"day away\", \"from\", \"DPS Bootcamp!\")"
   ]
  },
  {
   "cell_type": "markdown",
   "metadata": {},
   "source": [
    "## The input Function\n",
    "\n",
    "`input()` functions read data from keyboard as string."
   ]
  },
  {
   "cell_type": "code",
   "execution_count": 7,
   "metadata": {},
   "outputs": [
    {
     "name": "stdout",
     "output_type": "stream",
     "text": [
      "What is your pets name? harry\n",
      "Your pets name is harry\n"
     ]
    }
   ],
   "source": [
    "pet = input(\"What is your pets name? \")\n",
    "print(\"Your pets name is\", pet)"
   ]
  },
  {
   "cell_type": "markdown",
   "metadata": {},
   "source": [
    "## Opening and Closing Files\n",
    "\n",
    "Until now, you have been reading and writing to the standard input and output. Now, we will see how to use actual data files.\n",
    "\n",
    "Python provides basic functions and methods necessary to manipulate files by default. You can do most of the file manipulation using a `file` object."
   ]
  },
  {
   "cell_type": "markdown",
   "metadata": {},
   "source": [
    "### The open Function\n",
    "\n",
    "Before you can read or write a file, you have to open it using Python's built-in `open()` function. This function creates a `file` object, which would be utilized to call other support methods associated with it.\n",
    "\n",
    "```\n",
    "file object = open(file_name [, access_mode][, buffering])\n",
    "```"
   ]
  },
  {
   "cell_type": "code",
   "execution_count": 11,
   "metadata": {},
   "outputs": [
    {
     "name": "stdout",
     "output_type": "stream",
     "text": [
      "Name of the file:  support.py\n",
      "Closed or not :  False\n",
      "Opening mode :  r\n"
     ]
    }
   ],
   "source": [
    "fo = open(\"support.py\", \"r\")\n",
    "print (\"Name of the file: \", fo.name)\n",
    "print (\"Closed or not : \", fo.closed)\n",
    "print (\"Opening mode : \", fo.mode)"
   ]
  },
  {
   "cell_type": "markdown",
   "metadata": {},
   "source": [
    "### The close() Method\n",
    "\n",
    "The `close()` method of a `file` object flushes any unwritten information and closes the `file` object, after which no more writing can be done.\n",
    "\n",
    "Python automatically closes a file when the reference object of a file is reassigned to another file. It is a good practice to use the `close()` method to close a file."
   ]
  },
  {
   "cell_type": "code",
   "execution_count": 12,
   "metadata": {},
   "outputs": [
    {
     "name": "stdout",
     "output_type": "stream",
     "text": [
      "Closed or not :  True\n"
     ]
    }
   ],
   "source": [
    "fo.close()\n",
    "print (\"Closed or not : \", fo.closed)"
   ]
  },
  {
   "cell_type": "markdown",
   "metadata": {},
   "source": [
    "## Reading and Writing Files\n",
    "\n",
    "The file object provides a set of access methods to make our lives easier. We would see how to use `read()` and `write()` methods to read and write files."
   ]
  },
  {
   "cell_type": "markdown",
   "metadata": {},
   "source": [
    "### The write() Method\n",
    "\n",
    "The `write()` method writes any string to an open file. It is important to note that Python strings can have binary data and not just text.\n",
    "\n",
    "The `write()` method does not add a newline character ('`\\n`') to the end of the string −\n",
    "\n",
    "```\n",
    "fileObject.write(string);\n",
    "```\n",
    "\n",
    "Here, passed parameter is the content to be written into the opened file."
   ]
  },
  {
   "cell_type": "code",
   "execution_count": 6,
   "metadata": {},
   "outputs": [],
   "source": [
    "fo = open(\"demo.txt\", \"w\")\n",
    "fo.write( \"Python is a great language.\\nYeah its great!!\\n\")\n",
    "fo.close()"
   ]
  },
  {
   "cell_type": "code",
   "execution_count": 7,
   "metadata": {},
   "outputs": [
    {
     "name": "stdout",
     "output_type": "stream",
     "text": [
      "demo.txt\r\n"
     ]
    }
   ],
   "source": [
    "!ls demo.txt"
   ]
  },
  {
   "cell_type": "markdown",
   "metadata": {},
   "source": [
    "### The read() Method\n",
    "\n",
    "The `read()` method reads a string from an open file. It is important to note that Python strings can have binary data. apart from text data.\n",
    "\n",
    "```\n",
    "fileObject.read([count]);\n",
    "```\n",
    "\n",
    "Here, passed parameter is the number of bytes to be read from the opened file. This method starts reading from the beginning of the file and if count is missing, then it tries to read as much as possible, maybe until the end of file."
   ]
  },
  {
   "cell_type": "code",
   "execution_count": 10,
   "metadata": {},
   "outputs": [
    {
     "name": "stdout",
     "output_type": "stream",
     "text": [
      "Python is a great language.\n",
      "Yeah its great!!\n",
      "\n"
     ]
    }
   ],
   "source": [
    "fo = open(\"demo.txt\", \"r\")\n",
    "print(fo.read())\n",
    "fo.close()"
   ]
  },
  {
   "cell_type": "markdown",
   "metadata": {},
   "source": [
    "## File Positions\n",
    "\n",
    "The `tell()` method tells you the current position within the file; in other words, the next read or write will occur at that many bytes from the beginning of the file.\n",
    "\n",
    "The `seek(offset[, from])` method changes the current file position. The `offset` argument indicates the number of bytes to be moved. The `from` argument specifies the reference position from where the bytes are to be moved.\n",
    "\n",
    "If `from` is set to 0, the beginning of the file is used as the reference position. If it is set to 1, the current position is used as the reference position. If it is set to 2 then the end of the file would be taken as the reference position."
   ]
  },
  {
   "cell_type": "markdown",
   "metadata": {},
   "source": [
    "Open file and read `N` bytes"
   ]
  },
  {
   "cell_type": "code",
   "execution_count": 33,
   "metadata": {},
   "outputs": [
    {
     "name": "stdout",
     "output_type": "stream",
     "text": [
      "Read String is :  Python is \n"
     ]
    }
   ],
   "source": [
    "N = 10\n",
    "fo = open(\"demo.txt\", \"r\")\n",
    "print (\"Read String is : \", fo.read(N))"
   ]
  },
  {
   "cell_type": "markdown",
   "metadata": {},
   "source": [
    "Read `N` bytes second time"
   ]
  },
  {
   "cell_type": "code",
   "execution_count": 34,
   "metadata": {},
   "outputs": [
    {
     "name": "stdout",
     "output_type": "stream",
     "text": [
      "Read String is :  a great la\n"
     ]
    }
   ],
   "source": [
    "N = 10\n",
    "print (\"Read String is : \", fo.read(N))"
   ]
  },
  {
   "cell_type": "markdown",
   "metadata": {},
   "source": [
    "Check current position"
   ]
  },
  {
   "cell_type": "code",
   "execution_count": 35,
   "metadata": {},
   "outputs": [
    {
     "name": "stdout",
     "output_type": "stream",
     "text": [
      "Current file position :  20\n"
     ]
    }
   ],
   "source": [
    "position = fo.tell()\n",
    "print (\"Current file position : \", position)"
   ]
  },
  {
   "cell_type": "markdown",
   "metadata": {},
   "source": [
    "Reposition pointer at the beginning once again"
   ]
  },
  {
   "cell_type": "code",
   "execution_count": 36,
   "metadata": {},
   "outputs": [
    {
     "name": "stdout",
     "output_type": "stream",
     "text": [
      "Current file position :  0\n"
     ]
    }
   ],
   "source": [
    "position = fo.seek(0, 0)\n",
    "print (\"Current file position : \", position)"
   ]
  },
  {
   "cell_type": "code",
   "execution_count": 37,
   "metadata": {},
   "outputs": [
    {
     "name": "stdout",
     "output_type": "stream",
     "text": [
      "Again read String is :  Python is \n"
     ]
    }
   ],
   "source": [
    "print (\"Again read String is : \", fo.read(N))"
   ]
  },
  {
   "cell_type": "markdown",
   "metadata": {},
   "source": [
    "Close opened file"
   ]
  },
  {
   "cell_type": "code",
   "execution_count": 38,
   "metadata": {},
   "outputs": [],
   "source": [
    "fo.close()"
   ]
  },
  {
   "cell_type": "markdown",
   "metadata": {},
   "source": [
    "## Renaming and Deleting Files\n",
    "\n",
    "Python `os` module provides methods that help you perform file-processing operations, such as renaming and deleting files.\n",
    "\n",
    "To use this module, you need to import it first and then you can call any related functions."
   ]
  },
  {
   "cell_type": "code",
   "execution_count": 40,
   "metadata": {},
   "outputs": [],
   "source": [
    "import os"
   ]
  },
  {
   "cell_type": "markdown",
   "metadata": {},
   "source": [
    "`rename()` method takes two arguments, the current filename and the new filename."
   ]
  },
  {
   "cell_type": "code",
   "execution_count": 42,
   "metadata": {},
   "outputs": [],
   "source": [
    "os.rename(\"demo.txt\", \"demo2.txt\")"
   ]
  },
  {
   "cell_type": "code",
   "execution_count": 43,
   "metadata": {},
   "outputs": [
    {
     "name": "stdout",
     "output_type": "stream",
     "text": [
      "ls: cannot access 'demo.txt': No such file or directory\r\n",
      "demo2.txt\r\n"
     ]
    }
   ],
   "source": [
    "!ls demo.txt demo2.txt"
   ]
  },
  {
   "cell_type": "code",
   "execution_count": 44,
   "metadata": {},
   "outputs": [],
   "source": [
    "os.rename(\"demo2.txt\", \"demo.txt\")"
   ]
  },
  {
   "cell_type": "markdown",
   "metadata": {},
   "source": [
    "`remove()` method to delete files by supplying the name of the file to be deleted as the argument."
   ]
  },
  {
   "cell_type": "code",
   "execution_count": 53,
   "metadata": {},
   "outputs": [],
   "source": [
    "!cp demo.txt delete.txt"
   ]
  },
  {
   "cell_type": "code",
   "execution_count": 54,
   "metadata": {},
   "outputs": [],
   "source": [
    "os.remove(\"delete.txt\")"
   ]
  },
  {
   "cell_type": "markdown",
   "metadata": {},
   "source": [
    "## Directories in Python\n",
    "\n",
    "All files are contained within various directories, and Python has no problem handling these too. The `os` module has several methods that help you create, remove, and change directories."
   ]
  },
  {
   "cell_type": "markdown",
   "metadata": {},
   "source": [
    "`mkdir()` method of the os module to create directories in the current directory. You need to supply an argument to this method, which contains the name of the directory to be created."
   ]
  },
  {
   "cell_type": "code",
   "execution_count": 55,
   "metadata": {},
   "outputs": [],
   "source": [
    "os.mkdir(\"newdir\")"
   ]
  },
  {
   "cell_type": "code",
   "execution_count": 56,
   "metadata": {},
   "outputs": [
    {
     "name": "stdout",
     "output_type": "stream",
     "text": [
      "drwxrwxr-x 2 m m 6 Aug  2 10:25 newdir\r\n"
     ]
    }
   ],
   "source": [
    "!ls -ld newdir"
   ]
  },
  {
   "cell_type": "markdown",
   "metadata": {},
   "source": [
    "`chdir()` method to change the current directory. The method takes an argument, which is the name of the directory that you want to make the current directory."
   ]
  },
  {
   "cell_type": "code",
   "execution_count": 57,
   "metadata": {},
   "outputs": [],
   "source": [
    "os.chdir(\"newdir\")"
   ]
  },
  {
   "cell_type": "markdown",
   "metadata": {},
   "source": [
    "`getcwd()` method displays the current working directory."
   ]
  },
  {
   "cell_type": "code",
   "execution_count": 58,
   "metadata": {},
   "outputs": [
    {
     "data": {
      "text/plain": [
       "'/u03/Notebooks/Python Tutorial/newdir'"
      ]
     },
     "execution_count": 58,
     "metadata": {},
     "output_type": "execute_result"
    }
   ],
   "source": [
    "os.getcwd()"
   ]
  },
  {
   "cell_type": "code",
   "execution_count": 59,
   "metadata": {},
   "outputs": [],
   "source": [
    "os.chdir(\"..\")"
   ]
  },
  {
   "cell_type": "code",
   "execution_count": 60,
   "metadata": {},
   "outputs": [
    {
     "data": {
      "text/plain": [
       "'/u03/Notebooks/Python Tutorial'"
      ]
     },
     "execution_count": 60,
     "metadata": {},
     "output_type": "execute_result"
    }
   ],
   "source": [
    "os.getcwd()"
   ]
  },
  {
   "cell_type": "markdown",
   "metadata": {},
   "source": [
    "`rmdir()` method deletes the directory, which is passed as an argument in the method."
   ]
  },
  {
   "cell_type": "code",
   "execution_count": 62,
   "metadata": {},
   "outputs": [],
   "source": [
    "os.rmdir(\"newdir\")"
   ]
  }
 ],
 "metadata": {
  "kernelspec": {
   "display_name": "Python 3",
   "language": "python",
   "name": "python3"
  },
  "language_info": {
   "codemirror_mode": {
    "name": "ipython",
    "version": 3
   },
   "file_extension": ".py",
   "mimetype": "text/x-python",
   "name": "python",
   "nbconvert_exporter": "python",
   "pygments_lexer": "ipython3",
   "version": "3.7.0"
  }
 },
 "nbformat": 4,
 "nbformat_minor": 2
}
