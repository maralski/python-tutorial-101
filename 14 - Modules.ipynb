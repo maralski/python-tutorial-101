{
 "cells": [
  {
   "cell_type": "markdown",
   "metadata": {},
   "source": [
    "# Modules\n",
    "\n",
    "A module allows you to logically organize your Python code. Grouping related code into a module makes the code easier to understand and use. A module is a Python object with arbitrarily named attributes that you can bind and reference.\n",
    "\n",
    "Simply, a module is a file consisting of Python code. A module can define functions, classes and variables. A module can also include runnable code."
   ]
  },
  {
   "cell_type": "markdown",
   "metadata": {},
   "source": [
    "The Python code for a module named `X` normally resides in a file named `X.py`. Here is an example of a simple module, `support.py` −"
   ]
  },
  {
   "cell_type": "code",
   "execution_count": 2,
   "metadata": {},
   "outputs": [
    {
     "name": "stdout",
     "output_type": "stream",
     "text": [
      "'Basic Operators.ipynb'   Functions.ipynb      Numbers.ipynb\r\n",
      "'Basic Syntax.ipynb'\t  Introduction.ipynb   Strings.ipynb\r\n",
      "'Date and Time.ipynb'\t  Lists.ipynb\t       support.py\r\n",
      "'Decision Making.ipynb'   Loops.ipynb\t       Tuples.ipynb\r\n",
      " Dictionaries.ipynb\t  Modules.ipynb       'Variable Types.ipynb'\r\n"
     ]
    }
   ],
   "source": [
    "!ls"
   ]
  },
  {
   "cell_type": "code",
   "execution_count": 3,
   "metadata": {},
   "outputs": [
    {
     "name": "stdout",
     "output_type": "stream",
     "text": [
      "def print_func( par ):\r\n",
      "    print \"Hello : \", par\r\n",
      "    return\r\n"
     ]
    }
   ],
   "source": [
    "!cat support.py"
   ]
  },
  {
   "cell_type": "markdown",
   "metadata": {},
   "source": [
    "## The import Statement\n",
    "\n",
    "You can use any Python source file as a module by executing an import statement in some other Python source file.\n",
    "\n",
    "```\n",
    "import module1[, module2[,... moduleN]\n",
    "```\n",
    "\n",
    "When the interpreter encounters an import statement, it imports the module if the module is present in the search path. A search path is a list of directories that the interpreter searches before importing a module."
   ]
  },
  {
   "cell_type": "code",
   "execution_count": 5,
   "metadata": {},
   "outputs": [],
   "source": [
    "import support"
   ]
  },
  {
   "cell_type": "code",
   "execution_count": 6,
   "metadata": {},
   "outputs": [
    {
     "name": "stdout",
     "output_type": "stream",
     "text": [
      "Hello :  Peter\n"
     ]
    }
   ],
   "source": [
    "support.print_func(\"Peter\")"
   ]
  },
  {
   "cell_type": "markdown",
   "metadata": {},
   "source": [
    "A module is loaded only once, regardless of the number of times it is imported. This prevents the module execution from happening repeatedly, if multiple imports occur."
   ]
  },
  {
   "cell_type": "markdown",
   "metadata": {},
   "source": [
    "## The from...import Statement\n",
    "\n",
    "Python's from statement lets you import specific attributes from a module into the current namespace.\n",
    "\n",
    "```\n",
    "from modname import name1[, name2[, ... nameN]]\n",
    "```"
   ]
  },
  {
   "cell_type": "markdown",
   "metadata": {},
   "source": [
    "Import the function `ceil` from the module `math`."
   ]
  },
  {
   "cell_type": "code",
   "execution_count": 8,
   "metadata": {},
   "outputs": [],
   "source": [
    "from math import ceil"
   ]
  },
  {
   "cell_type": "code",
   "execution_count": 9,
   "metadata": {},
   "outputs": [
    {
     "data": {
      "text/plain": [
       "11"
      ]
     },
     "execution_count": 9,
     "metadata": {},
     "output_type": "execute_result"
    }
   ],
   "source": [
    "ceil(10.2)"
   ]
  },
  {
   "cell_type": "markdown",
   "metadata": {},
   "source": [
    "This statement does not import the entire module `math` into the current namespace; it just introduces the item `ceil` from the module `math` into the global symbol table of the importing module."
   ]
  },
  {
   "cell_type": "markdown",
   "metadata": {},
   "source": [
    "## The from...import * Statement\n",
    "\n",
    "It is also possible to import all the names from a module into the current namespace by using the following import statement −\n",
    "\n",
    "```\n",
    "from modname import *\n",
    "```\n",
    "\n",
    "This provides an easy way to import all the items from a module into the current namespace; however, this statement should be used sparingly."
   ]
  },
  {
   "cell_type": "code",
   "execution_count": 10,
   "metadata": {},
   "outputs": [],
   "source": [
    "from math import *"
   ]
  },
  {
   "cell_type": "code",
   "execution_count": 11,
   "metadata": {},
   "outputs": [
    {
     "data": {
      "text/plain": [
       "11"
      ]
     },
     "execution_count": 11,
     "metadata": {},
     "output_type": "execute_result"
    }
   ],
   "source": [
    "ceil(10.2)"
   ]
  },
  {
   "cell_type": "code",
   "execution_count": 12,
   "metadata": {},
   "outputs": [
    {
     "data": {
      "text/plain": [
       "12"
      ]
     },
     "execution_count": 12,
     "metadata": {},
     "output_type": "execute_result"
    }
   ],
   "source": [
    "floor(12.1)"
   ]
  },
  {
   "cell_type": "markdown",
   "metadata": {},
   "source": [
    "## Executing Modules as Scripts\n",
    "\n",
    "Within a module, the module’s name (as a string) is available as the value of the global variable `__name__`. The code in the module will be executed, just as if you imported it, but with the `__name__` set to `\"__main__\"`.\n",
    "\n",
    "```\n",
    "#!/usr/bin/python3\n",
    "\n",
    "# Fibonacci numbers module\n",
    "\n",
    "def fib(n): # return Fibonacci series up to n\n",
    "   result = []\n",
    "   a, b = 0, 1\n",
    "   while b < n:\n",
    "      result.append(b)\n",
    "      a, b = b, a + b\n",
    "   return result\n",
    "if __name__ == \"__main__\":\n",
    "   f = fib(100)\n",
    "   print(f)\n",
    "```\n",
    "\n",
    "When you run the above code, the following output will be displayed.\n",
    "\n",
    "```\n",
    "[1, 1, 2, 3, 5, 8, 13, 21, 34, 55, 89]\n",
    "```"
   ]
  },
  {
   "cell_type": "markdown",
   "metadata": {},
   "source": [
    "## Namespaces and Scoping\n",
    "\n",
    "Variables are names (identifiers) that map to objects. A namespace is a dictionary of variable names (keys) and their corresponding objects (values).\n",
    "\n",
    "* A Python statement can access variables in a local namespace and in the global namespace. If a local and a global variable have the same name, the local variable shadows the global variable.\n",
    "\n",
    "* Each function has its own local namespace. Class methods follow the same scoping rule as ordinary functions.\n",
    "\n",
    "* Python makes educated guesses on whether variables are local or global. It assumes that any variable assigned a value in a function is local.\n",
    "\n",
    "* Therefore, in order to assign a value to a global variable within a function, you must first use the `global` statement.\n",
    "\n",
    "* The statement `global VarName` tells Python that VarName is a global variable. Python stops searching the local namespace for the variable.\n"
   ]
  },
  {
   "cell_type": "markdown",
   "metadata": {},
   "source": [
    "For example, we define a variable `Money` in the global namespace. Within the function `AddMoney`, we assign `Money` a value, therefore Python assumes `Money` as a local variable.\n",
    "\n",
    "However, we accessed the value of the local variable `Money` before setting it, so an `UnboundLocalError` is the result. Uncommenting the `global` statement fixes the problem."
   ]
  },
  {
   "cell_type": "code",
   "execution_count": 19,
   "metadata": {},
   "outputs": [
    {
     "name": "stdout",
     "output_type": "stream",
     "text": [
      "2000\n"
     ]
    },
    {
     "ename": "UnboundLocalError",
     "evalue": "local variable 'Money' referenced before assignment",
     "output_type": "error",
     "traceback": [
      "\u001b[0;31m---------------------------------------------------------------------------\u001b[0m",
      "\u001b[0;31mUnboundLocalError\u001b[0m                         Traceback (most recent call last)",
      "\u001b[0;32m<ipython-input-19-df073ea25976>\u001b[0m in \u001b[0;36m<module>\u001b[0;34m\u001b[0m\n\u001b[1;32m      6\u001b[0m \u001b[0;34m\u001b[0m\u001b[0m\n\u001b[1;32m      7\u001b[0m \u001b[0mprint\u001b[0m \u001b[0;34m(\u001b[0m\u001b[0mMoney\u001b[0m\u001b[0;34m)\u001b[0m\u001b[0;34m\u001b[0m\u001b[0;34m\u001b[0m\u001b[0m\n\u001b[0;32m----> 8\u001b[0;31m \u001b[0mAddMoney\u001b[0m\u001b[0;34m(\u001b[0m\u001b[0;34m)\u001b[0m\u001b[0;34m\u001b[0m\u001b[0;34m\u001b[0m\u001b[0m\n\u001b[0m\u001b[1;32m      9\u001b[0m \u001b[0mprint\u001b[0m \u001b[0;34m(\u001b[0m\u001b[0mMoney\u001b[0m\u001b[0;34m)\u001b[0m\u001b[0;34m\u001b[0m\u001b[0;34m\u001b[0m\u001b[0m\n",
      "\u001b[0;32m<ipython-input-19-df073ea25976>\u001b[0m in \u001b[0;36mAddMoney\u001b[0;34m()\u001b[0m\n\u001b[1;32m      3\u001b[0m     \u001b[0;31m# Uncomment the following line to fix the code:\u001b[0m\u001b[0;34m\u001b[0m\u001b[0;34m\u001b[0m\u001b[0;34m\u001b[0m\u001b[0m\n\u001b[1;32m      4\u001b[0m     \u001b[0;31m# global Money\u001b[0m\u001b[0;34m\u001b[0m\u001b[0;34m\u001b[0m\u001b[0;34m\u001b[0m\u001b[0m\n\u001b[0;32m----> 5\u001b[0;31m     \u001b[0mMoney\u001b[0m \u001b[0;34m+=\u001b[0m \u001b[0;36m1\u001b[0m\u001b[0;34m\u001b[0m\u001b[0;34m\u001b[0m\u001b[0m\n\u001b[0m\u001b[1;32m      6\u001b[0m \u001b[0;34m\u001b[0m\u001b[0m\n\u001b[1;32m      7\u001b[0m \u001b[0mprint\u001b[0m \u001b[0;34m(\u001b[0m\u001b[0mMoney\u001b[0m\u001b[0;34m)\u001b[0m\u001b[0;34m\u001b[0m\u001b[0;34m\u001b[0m\u001b[0m\n",
      "\u001b[0;31mUnboundLocalError\u001b[0m: local variable 'Money' referenced before assignment"
     ]
    }
   ],
   "source": [
    "Money = 2000\n",
    "def AddMoney():\n",
    "    # Uncomment the following line to fix the code:\n",
    "    # global Money\n",
    "    Money += 1\n",
    "\n",
    "print (Money)\n",
    "AddMoney()\n",
    "print (Money)"
   ]
  },
  {
   "cell_type": "markdown",
   "metadata": {},
   "source": [
    "## The dir( ) Function\n",
    "\n",
    "The dir() built-in function returns a sorted list of strings containing the names defined by a module.\n",
    "\n",
    "The list contains the names of all the modules, variables and functions that are defined in a module."
   ]
  },
  {
   "cell_type": "code",
   "execution_count": 22,
   "metadata": {},
   "outputs": [
    {
     "name": "stdout",
     "output_type": "stream",
     "text": [
      "['__doc__', '__file__', '__loader__', '__name__', '__package__', '__spec__', 'acos', 'acosh', 'asin', 'asinh', 'atan', 'atan2', 'atanh', 'ceil', 'copysign', 'cos', 'cosh', 'degrees', 'e', 'erf', 'erfc', 'exp', 'expm1', 'fabs', 'factorial', 'floor', 'fmod', 'frexp', 'fsum', 'gamma', 'gcd', 'hypot', 'inf', 'isclose', 'isfinite', 'isinf', 'isnan', 'ldexp', 'lgamma', 'log', 'log10', 'log1p', 'log2', 'modf', 'nan', 'pi', 'pow', 'radians', 'remainder', 'sin', 'sinh', 'sqrt', 'tan', 'tanh', 'tau', 'trunc']\n"
     ]
    }
   ],
   "source": [
    "import math\n",
    "\n",
    "print( dir(math) )"
   ]
  },
  {
   "cell_type": "markdown",
   "metadata": {},
   "source": [
    "Here, the special string variable `__name__` is the module's name, and `__file__` is the filename from which the module was loaded."
   ]
  },
  {
   "cell_type": "code",
   "execution_count": 24,
   "metadata": {},
   "outputs": [
    {
     "data": {
      "text/plain": [
       "'math'"
      ]
     },
     "execution_count": 24,
     "metadata": {},
     "output_type": "execute_result"
    }
   ],
   "source": [
    "math.__name__"
   ]
  },
  {
   "cell_type": "code",
   "execution_count": 25,
   "metadata": {},
   "outputs": [
    {
     "data": {
      "text/plain": [
       "'/u03/anaconda3/lib/python3.7/lib-dynload/math.cpython-37m-x86_64-linux-gnu.so'"
      ]
     },
     "execution_count": 25,
     "metadata": {},
     "output_type": "execute_result"
    }
   ],
   "source": [
    "math.__file__"
   ]
  },
  {
   "cell_type": "markdown",
   "metadata": {},
   "source": [
    "## The globals() and locals() Functions\n",
    "\n",
    "The `globals()` and `locals()` functions can be used to return the names in the global and local namespaces depending on the location from where they are called.\n",
    "\n",
    "If `locals()` is called from within a function, it will return all the names that can be accessed locally from that function.\n",
    "\n",
    "If `globals()` is called from within a function, it will return all the names that can be accessed globally from that function.\n",
    "\n",
    "The return type of both these functions is dictionary. Therefore, names can be extracted using the `keys()` function."
   ]
  },
  {
   "cell_type": "markdown",
   "metadata": {},
   "source": [
    "## Packages in Python\n",
    "\n",
    "A package is a hierarchical file directory structure that defines a single Python application environment that consists of modules and subpackages and sub-subpackages, and so on.\n",
    "\n",
    "Consider a file `Pots.py` available in Phone directory. This file has the following line of source code −\n",
    "\n",
    "```\n",
    "#!/usr/bin/python3\n",
    "\n",
    "def Pots():\n",
    "print (\"I'm Pots Phone\")  \n",
    "```\n",
    "\n",
    "Similar, we have other two files having different functions with the same name as above. They are −\n",
    "\n",
    "* `Phone/Isdn.py` file having function `Isdn()`\n",
    "\n",
    "* `Phone/G3.py` file having function `G3()`\n",
    "\n",
    "Now, create one more file `__init__.py` in the Phone directory −\n",
    "\n",
    "* `Phone/__init__.py`\n",
    "\n",
    "To make all of your functions available when you have imported Phone, you need to put explicit import statements in `__init__.py` as follows −\n",
    "\n",
    "```\n",
    "from Pots import Pots\n",
    "from Isdn import Isdn\n",
    "from G3 import G3\n",
    "```\n",
    "\n",
    "After you add these lines to `__init__.py`, you have all of these classes available when you import the Phone package.\n",
    "\n",
    "```\n",
    "#!/usr/bin/python3\n",
    "\n",
    "# Now import your Phone Package.\n",
    "import Phone\n",
    "\n",
    "Phone.Pots()\n",
    "Phone.Isdn()\n",
    "Phone.G3()\n",
    "```\n",
    "\n",
    "When the above code is executed, it produces the following result −\n",
    "\n",
    "\n",
    "```\n",
    "```\n",
    "\n",
    "In the above example, we have taken example of a single function in each file, but you can keep multiple functions in your files. You can also define different Python classes in those files and then you can create your packages out of those classes."
   ]
  },
  {
   "cell_type": "code",
   "execution_count": null,
   "metadata": {},
   "outputs": [],
   "source": []
  }
 ],
 "metadata": {
  "kernelspec": {
   "display_name": "Python 3",
   "language": "python",
   "name": "python3"
  },
  "language_info": {
   "codemirror_mode": {
    "name": "ipython",
    "version": 3
   },
   "file_extension": ".py",
   "mimetype": "text/x-python",
   "name": "python",
   "nbconvert_exporter": "python",
   "pygments_lexer": "ipython3",
   "version": "3.7.2"
  }
 },
 "nbformat": 4,
 "nbformat_minor": 2
}
