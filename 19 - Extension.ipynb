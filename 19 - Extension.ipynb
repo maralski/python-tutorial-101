{
 "cells": [
  {
   "cell_type": "markdown",
   "metadata": {},
   "source": [
    "# Extension\n",
    "\n",
    "Additional topics to explore.\n",
    "    \n",
    "* [Object-oriented Programming](https://www.tutorialspoint.com/python3/python_classes_objects.htm)\n",
    "* [Interfacing with Databases](https://www.tutorialspoint.com/python3/python_database_access.htm)\n",
    "* [Regular Expressions](https://www.tutorialspoint.com/python3/python_reg_expressions.htm)\n",
    "* [Jupyter Widgets](https://ipywidgets.readthedocs.io/en/latest/)\n",
    "* [Scraping the Web](https://realpython.com/python-web-scraping-practical-introduction/)\n",
    "* [Pandas in 10 minutes](https://pandas.pydata.org/pandas-docs/stable/getting_started/10min.html)\n",
    "\n"
   ]
  },
  {
   "cell_type": "markdown",
   "metadata": {},
   "source": [
    "# Project Ideas\n",
    "\n",
    "* CLI shell to automate common backup and recovery tasks"
   ]
  }
 ],
 "metadata": {
  "kernelspec": {
   "display_name": "Python 3",
   "language": "python",
   "name": "python3"
  },
  "language_info": {
   "codemirror_mode": {
    "name": "ipython",
    "version": 3
   },
   "file_extension": ".py",
   "mimetype": "text/x-python",
   "name": "python",
   "nbconvert_exporter": "python",
   "pygments_lexer": "ipython3",
   "version": "3.7.1"
  }
 },
 "nbformat": 4,
 "nbformat_minor": 2
}
